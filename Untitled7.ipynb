{
 "cells": [
  {
   "cell_type": "code",
   "execution_count": 15,
   "id": "c5d9279c-9b45-4be1-aa13-0be4d2215a03",
   "metadata": {},
   "outputs": [
    {
     "name": "stdout",
     "output_type": "stream",
     "text": [
      "✅ Successfully loaded:\n",
      "   - 100 customers\n",
      "   - 60 products\n",
      "   - 150 sales transactions\n",
      "\n",
      "👀 First few rows of each dataset:\n",
      "\n",
      "Customers:\n",
      "   customer_id first_name last_name  age state  income registration_date  \\\n",
      "0            1       John     Smith   34    CA   75000        2022-01-15   \n",
      "1            2      Sarah   Johnson   28    NY   82000        2022-01-22   \n",
      "2            3    Michael     Brown   45    TX   95000        2022-02-03   \n",
      "\n",
      "                     email  \n",
      "0     john.smith@email.com  \n",
      "1  sarah.johnson@email.com  \n",
      "2  michael.brown@email.com  \n",
      "\n",
      "Products:\n",
      "   product_id                   product_name       category  price  \\\n",
      "0           1  Wireless Bluetooth Headphones    Electronics  79.99   \n",
      "1           2         Organic Cotton T-Shirt       Clothing  24.99   \n",
      "2           3   Stainless Steel Water Bottle  Home & Garden  19.99   \n",
      "\n",
      "  launch_date      brand  \n",
      "0  2021-03-15  AudioTech  \n",
      "1  2021-04-20    EcoWear  \n",
      "2  2021-05-10  HydroLife  \n",
      "\n",
      "Sales:\n",
      "   sale_id  customer_id  product_id     transaction_date  quantity  \\\n",
      "0        1            1           1  2022-02-10 14:30:00         1   \n",
      "1        2            2           3  2022-02-15 10:15:00         2   \n",
      "2        3            3           5  2022-02-20 16:45:00         1   \n",
      "\n",
      "   total_amount  \n",
      "0         79.99  \n",
      "1         39.98  \n",
      "2         34.99  \n"
     ]
    }
   ],
   "source": [
    "# =============================================================================\n",
    "# Workshop: Advanced Pandas Retail Chain Performance Analysis\n",
    "# =============================================================================\n",
    "# Import required libraries\n",
    "import pandas as pd  # Main library for data manipulation and analysis\n",
    "# Load the three datasets using pd.read_csv()\n",
    "# This function reads CSV files and converts them into pandas DataFrames\n",
    "customers = pd.read_csv('22_5/customers_wk9_thurs.csv')\n",
    "products = pd.read_csv('22_5/products_wk9_thurs.csv')\n",
    "sales = pd.read_csv('22_5/sales_wk9_thurs.csv')\n",
    "# Display basic information about what we've loaded\n",
    "# len() gives us the number of rows in each DataFrame\n",
    "print(f\"✅ Successfully loaded:\")\n",
    "print(f\"   - {len(customers)} customers\")      # Total number of customer records\n",
    "print(f\"   - {len(products)} products\")        # Total number of products in catalog\n",
    "print(f\"   - {len(sales)} sales transactions\") # Total number of sales transactions\n",
    "\n",
    "# Display the first few rows of each dataset to understand the structure\n",
    "# .head(n) shows the first n rows of a DataFrame - useful for data exploration\n",
    "print(f\"\\n👀 First few rows of each dataset:\")\n",
    "print(f\"\\nCustomers:\")\n",
    "print(customers.head(3))  # Show first 3 rows of customer data\n",
    "print(f\"\\nProducts:\")\n",
    "print(products.head(3))   # Show first 3 rows of product data\n",
    "print(f\"\\nSales:\")\n",
    "print(sales.head(3))      # Show first 3 rows of sales data"
   ]
  },
  {
   "cell_type": "code",
   "execution_count": 17,
   "id": "2a11d4e5-2cd2-4cd4-be51-3939d151c2e8",
   "metadata": {},
   "outputs": [
    {
     "name": "stdout",
     "output_type": "stream",
     "text": [
      "\n",
      "============================================================\n",
      "PART 1: DATETIME OPERATIONS\n",
      "============================================================\n",
      "\n",
      "🕐 1.1 Converting and Working with Dates\n",
      "Converting date columns to datetime...\n",
      "✅ All date columns converted successfully\n"
     ]
    }
   ],
   "source": [
    "# =============================================================================\n",
    "# PART 1: DATETIME OPERATIONS\n",
    "# =============================================================================\n",
    "# DateTime operations are crucial for time-based analysis in business data\n",
    "# We'll convert text dates to proper datetime objects and extract useful components\n",
    "\n",
    "print(\"\\n\" + \"=\" * 60)\n",
    "print(\"PART 1: DATETIME OPERATIONS\")\n",
    "print(\"=\" * 60)\n",
    "\n",
    "print(\"\\n🕐 1.1 Converting and Working with Dates\")\n",
    "\n",
    "# Convert date columns from strings to pandas datetime objects\n",
    "# pd.to_datetime() is the main function for converting various date formats\n",
    "# Once converted, we can perform date arithmetic and extract components\n",
    "print(\"Converting date columns to datetime...\")\n",
    "# YOUR CODE HERE\n",
    "customers['registration_date'] = pd.to_datetime(customers['registration_date']) \n",
    "products['launch_date_new'] = pd.to_datetime(products['launch_date']) \n",
    "sales['transaction_date'] = pd.to_datetime(sales['transaction_date']) \n",
    "\n",
    "print(\"✅ All date columns converted successfully\")"
   ]
  },
  {
   "cell_type": "code",
   "execution_count": 18,
   "id": "e6f1d179-ecdf-483e-9f17-0dc40a6b2b6a",
   "metadata": {},
   "outputs": [
    {
     "name": "stdout",
     "output_type": "stream",
     "text": [
      "\n",
      "Extracting datetime components...\n",
      "✅ Extracted: year, month, day of week, and day name\n"
     ]
    }
   ],
   "source": [
    "# Extract useful components from datetime objects using the .dt accessor\n",
    "# The .dt accessor gives us access to datetime-specific methods and properties\n",
    "print(\"\\nExtracting datetime components...\")   \n",
    "# Extract year (2022, 2023, etc.)\n",
    "sales['sales_year'] = sales['transaction_date'].dt.year\n",
    "# Extract month number (1-12)\n",
    "sales['sales_month'] = sales['transaction_date'].dt.month\n",
    "# Day of week (Monday=0, Sunday=6)\n",
    "sales['sales_day_of_week'] = sales['transaction_date'].dt.dayofweek\n",
    "# Day name as text (Monday, Tuesday, etc.)\n",
    "print(\"✅ Extracted: year, month, day of week, and day name\")"
   ]
  },
  {
   "cell_type": "code",
   "execution_count": 19,
   "id": "0fb1979b-5884-4fee-85f1-2bc28e6c335c",
   "metadata": {},
   "outputs": [
    {
     "data": {
      "text/html": [
       "<div>\n",
       "<style scoped>\n",
       "    .dataframe tbody tr th:only-of-type {\n",
       "        vertical-align: middle;\n",
       "    }\n",
       "\n",
       "    .dataframe tbody tr th {\n",
       "        vertical-align: top;\n",
       "    }\n",
       "\n",
       "    .dataframe thead th {\n",
       "        text-align: right;\n",
       "    }\n",
       "</style>\n",
       "<table border=\"1\" class=\"dataframe\">\n",
       "  <thead>\n",
       "    <tr style=\"text-align: right;\">\n",
       "      <th></th>\n",
       "      <th>sale_id</th>\n",
       "      <th>customer_id</th>\n",
       "      <th>product_id</th>\n",
       "      <th>transaction_date</th>\n",
       "      <th>quantity</th>\n",
       "      <th>total_amount</th>\n",
       "      <th>sales_year</th>\n",
       "      <th>sales_month</th>\n",
       "      <th>sales_day_of_week</th>\n",
       "    </tr>\n",
       "  </thead>\n",
       "  <tbody>\n",
       "    <tr>\n",
       "      <th>0</th>\n",
       "      <td>1</td>\n",
       "      <td>1</td>\n",
       "      <td>1</td>\n",
       "      <td>2022-02-10 14:30:00</td>\n",
       "      <td>1</td>\n",
       "      <td>79.99</td>\n",
       "      <td>2022</td>\n",
       "      <td>2</td>\n",
       "      <td>3</td>\n",
       "    </tr>\n",
       "    <tr>\n",
       "      <th>1</th>\n",
       "      <td>2</td>\n",
       "      <td>2</td>\n",
       "      <td>3</td>\n",
       "      <td>2022-02-15 10:15:00</td>\n",
       "      <td>2</td>\n",
       "      <td>39.98</td>\n",
       "      <td>2022</td>\n",
       "      <td>2</td>\n",
       "      <td>1</td>\n",
       "    </tr>\n",
       "    <tr>\n",
       "      <th>2</th>\n",
       "      <td>3</td>\n",
       "      <td>3</td>\n",
       "      <td>5</td>\n",
       "      <td>2022-02-20 16:45:00</td>\n",
       "      <td>1</td>\n",
       "      <td>34.99</td>\n",
       "      <td>2022</td>\n",
       "      <td>2</td>\n",
       "      <td>6</td>\n",
       "    </tr>\n",
       "  </tbody>\n",
       "</table>\n",
       "</div>"
      ],
      "text/plain": [
       "   sale_id  customer_id  product_id    transaction_date  quantity  \\\n",
       "0        1            1           1 2022-02-10 14:30:00         1   \n",
       "1        2            2           3 2022-02-15 10:15:00         2   \n",
       "2        3            3           5 2022-02-20 16:45:00         1   \n",
       "\n",
       "   total_amount  sales_year  sales_month  sales_day_of_week  \n",
       "0         79.99        2022            2                  3  \n",
       "1         39.98        2022            2                  1  \n",
       "2         34.99        2022            2                  6  "
      ]
     },
     "execution_count": 19,
     "metadata": {},
     "output_type": "execute_result"
    }
   ],
   "source": [
    "sales.head(3)"
   ]
  },
  {
   "cell_type": "code",
   "execution_count": 29,
   "id": "da86d6b6-d4d9-41d0-af5c-78908a56b392",
   "metadata": {},
   "outputs": [
    {
     "name": "stdout",
     "output_type": "stream",
     "text": [
      "\n",
      "🔍 1.2 Basic Time Analysis\n",
      "SALES RANGE: {'MIN DATE': Timestamp('2022-02-10 14:30:00'), 'MAX DATE': Timestamp('2024-03-05 10:30:00')}\n"
     ]
    }
   ],
   "source": [
    "# Find the date range of our sales data by using min() and max()\n",
    "# This helps us understand the time span our analysis covers\n",
    "# YOUR CODE HERE\n",
    "def sales_range(number):\n",
    "    return { \n",
    "        \"MIN DATE\" : min(number) ,\n",
    "        \"MAX DATE\" : max(number) , \n",
    "    }\n",
    "print(\"\\n🔍 1.2 Basic Time Analysis\")\n",
    "test_dates = sales['transaction_date']\n",
    "stats = sales_range(test_dates)\n",
    "print(\"SALES RANGE:\", stats)"
   ]
  },
  {
   "cell_type": "code",
   "execution_count": 31,
   "id": "5f0134e2-48a5-4cb6-8a8d-372b3a15d353",
   "metadata": {},
   "outputs": [
    {
     "data": {
      "text/plain": [
       "sales_day_of_week\n",
       "4    24\n",
       "Name: count, dtype: int64"
      ]
     },
     "execution_count": 31,
     "metadata": {},
     "output_type": "execute_result"
    }
   ],
   "source": [
    "# Find the busiest day of the week by counting transactions\n",
    "# .value_counts() counts occurrences of each unique value\n",
    "# Count transactions for each day name   \n",
    "sales['sales_day_of_week'].value_counts()\n",
    "# Get the day with most transactions (first in sorted list)\n",
    "# Get the count for that day\n",
    "sales['sales_day_of_week'].value_counts().head(1)\n"
   ]
  },
  {
   "cell_type": "code",
   "execution_count": 33,
   "id": "53898a48-6a10-4a21-8f77-cd9a7da1dfed",
   "metadata": {},
   "outputs": [
    {
     "name": "stdout",
     "output_type": "stream",
     "text": [
      "\n",
      "Sales by year:\n"
     ]
    },
    {
     "data": {
      "text/plain": [
       "sales_year\n",
       "2022    65\n",
       "2023    72\n",
       "2024    13\n",
       "Name: count, dtype: int64"
      ]
     },
     "execution_count": 33,
     "metadata": {},
     "output_type": "execute_result"
    }
   ],
   "source": [
    "# Count sales by year to see yearly trends  \n",
    "# Count transactions by year, sort chronologically\n",
    "print(f\"\\nSales by year:\")\n",
    "sales['sales_year'].value_counts().sort_index()"
   ]
  },
  {
   "cell_type": "code",
   "execution_count": null,
   "id": "23b3d21a-b77f-47ae-863e-bac7b0dcef97",
   "metadata": {},
   "outputs": [],
   "source": [
    "# =============================================================================\n",
    "# PART 2: GROUPBY AND AGGREGATION\n",
    "# =============================================================================\n",
    "# GroupBy operations allow us to split data into groups and perform calculations\n",
    "# on each group separately. This is essential for analyzing patterns and trends."
   ]
  },
  {
   "cell_type": "code",
   "execution_count": null,
   "id": "0d9c8588-8385-4221-ab59-e1cbdbe49548",
   "metadata": {},
   "outputs": [],
   "source": [
    "# Group products by category and calculate average price for each category\n",
    "# .groupby() splits the data into groups based on the 'category' column\n",
    "# .mean() calculates the average for each group\n",
    "# .round(2) rounds to 2 decimal places for currency formatting\n",
    "# .sort_values(ascending=False) sorts from highest to lowest price\n",
    "# Loop through each category and its average price             \n",
    "# Format with dollar sign"
   ]
  },
  {
   "cell_type": "code",
   "execution_count": 41,
   "id": "98c373d2-97e1-4d0c-a327-3c5219806035",
   "metadata": {},
   "outputs": [
    {
     "data": {
      "text/plain": [
       "category\n",
       "Accessories           35.073333\n",
       "Clothing              52.240000\n",
       "Electronics           59.990000\n",
       "Home & Garden         30.156667\n",
       "Sports & Outdoors    105.899091\n",
       "Name: price, dtype: float64"
      ]
     },
     "execution_count": 41,
     "metadata": {},
     "output_type": "execute_result"
    }
   ],
   "source": [
    "# 1.1 Group products by category and calculate the average price for each category\n",
    "products.groupby('category')['price'].mean()"
   ]
  },
  {
   "cell_type": "code",
   "execution_count": 42,
   "id": "ab8962f9-8387-4716-bf70-506a86561662",
   "metadata": {},
   "outputs": [
    {
     "data": {
      "text/plain": [
       "category\n",
       "Accessories           89.99\n",
       "Clothing              99.99\n",
       "Electronics          149.99\n",
       "Home & Garden         49.99\n",
       "Sports & Outdoors    249.99\n",
       "Name: price, dtype: float64"
      ]
     },
     "execution_count": 42,
     "metadata": {},
     "output_type": "execute_result"
    }
   ],
   "source": [
    "# 1.2 Find the most expensive product in each category\n",
    "products.groupby('category')['price'].max()"
   ]
  },
  {
   "cell_type": "code",
   "execution_count": 43,
   "id": "bbbb3fed-eb02-4752-9b20-cdfde86f0afe",
   "metadata": {},
   "outputs": [
    {
     "data": {
      "text/plain": [
       "category\n",
       "Electronics          13\n",
       "Clothing             12\n",
       "Home & Garden        12\n",
       "Accessories          12\n",
       "Sports & Outdoors    11\n",
       "Name: count, dtype: int64"
      ]
     },
     "execution_count": 43,
     "metadata": {},
     "output_type": "execute_result"
    }
   ],
   "source": [
    "# 1.3 Count how many products exist in each category\n",
    "# .value_counts() counts occurrences of each unique category\n",
    "products['category'].value_counts()"
   ]
  },
  {
   "cell_type": "code",
   "execution_count": 45,
   "id": "4d7ab962-f14d-48fa-bc91-3b4b8c24366c",
   "metadata": {},
   "outputs": [
    {
     "data": {
      "text/plain": [
       "state\n",
       "CA    34.10\n",
       "FL    39.00\n",
       "IL    37.25\n",
       "NY    36.50\n",
       "TX    38.30\n",
       "Name: age, dtype: float64"
      ]
     },
     "execution_count": 45,
     "metadata": {},
     "output_type": "execute_result"
    }
   ],
   "source": [
    "# 2.1 Group customers by state and calculate average age\n",
    "# This shows us the demographic profile of customers in different regions\n",
    "customers.groupby('state')['age'].mean()"
   ]
  },
  {
   "cell_type": "code",
   "execution_count": 46,
   "id": "bdae5d67-14af-4562-8242-97e7f1da0d68",
   "metadata": {},
   "outputs": [
    {
     "data": {
      "text/plain": [
       "customer_id\n",
       "1     229.98\n",
       "2     179.96\n",
       "3     154.98\n",
       "4     234.95\n",
       "5     149.98\n",
       "       ...  \n",
       "86     34.99\n",
       "87     83.97\n",
       "88    109.98\n",
       "89     29.99\n",
       "90    139.96\n",
       "Name: total_amount, Length: 90, dtype: float64"
      ]
     },
     "execution_count": 46,
     "metadata": {},
     "output_type": "execute_result"
    }
   ],
   "source": [
    "# 2.2 Calculate total spending per customer (sum up all their purchases)\n",
    "sales.groupby('customer_id')['total_amount'].sum()"
   ]
  },
  {
   "cell_type": "code",
   "execution_count": 47,
   "id": "437eca82-f40e-4f0f-92a7-ceeabc2d60ad",
   "metadata": {},
   "outputs": [
    {
     "name": "stdout",
     "output_type": "stream",
     "text": [
      "\n",
      "Customer with most purchases: Customer #1 (2 purchases)\n"
     ]
    }
   ],
   "source": [
    "# 2.3 Find customers with the most purchases (transaction frequency)\n",
    "# .groupby().size() counts the number of transactions per customer\n",
    "# This is different from sum() - it counts rows, not values\n",
    "customer_purchase_counts = sales.groupby('customer_id').size().sort_values(ascending=False)\n",
    "top_buyer_id = customer_purchase_counts.index[0]        # Customer ID with most purchases\n",
    "top_buyer_purchases = customer_purchase_counts.iloc[0]  # Number of purchases by top customer\n",
    "print(f\"\\nCustomer with most purchases: Customer #{top_buyer_id} ({top_buyer_purchases} purchases)\")"
   ]
  },
  {
   "cell_type": "code",
   "execution_count": 55,
   "id": "e1f0a66a-1dcb-4bc1-b4eb-5eed2bb69ed5",
   "metadata": {},
   "outputs": [
    {
     "name": "stdout",
     "output_type": "stream",
     "text": [
      "ERROR! NOTE: We should use merged\n"
     ]
    }
   ],
   "source": [
    "# 3.1 Compare total sales between different product categories\n",
    "print('ERROR! NOTE: We could use merged')"
   ]
  },
  {
   "cell_type": "code",
   "execution_count": 49,
   "id": "51721572-31c2-44be-9ed8-2597a8aecffb",
   "metadata": {},
   "outputs": [
    {
     "data": {
      "text/plain": [
       "state\n",
       "CA    970\n",
       "Name: customer_id, dtype: int64"
      ]
     },
     "execution_count": 49,
     "metadata": {},
     "output_type": "execute_result"
    }
   ],
   "source": [
    "# 3.2 Find which state has the most customers\n",
    "customers.groupby('state')['customer_id'].sum().head(1)"
   ]
  },
  {
   "cell_type": "code",
   "execution_count": 53,
   "id": "3dccf623-3ce3-4c44-b4e9-0df766d83f31",
   "metadata": {},
   "outputs": [
    {
     "data": {
      "text/plain": [
       "customer_id\n",
       "31    379.97\n",
       "13    359.96\n",
       "41    329.98\n",
       "84    319.98\n",
       "30    284.98\n",
       "Name: total_amount, dtype: float64"
      ]
     },
     "execution_count": 53,
     "metadata": {},
     "output_type": "execute_result"
    }
   ],
   "source": [
    "# 3.3 Identify the top 5 customers by total spending\n",
    "sales.groupby('customer_id')['total_amount'].sum().sort_values(ascending=False).head(5)"
   ]
  },
  {
   "cell_type": "code",
   "execution_count": 57,
   "id": "49aabaf1-3b07-4c23-949a-7c90221ec86c",
   "metadata": {},
   "outputs": [
    {
     "data": {
      "text/plain": [
       "sales_day_of_week\n",
       "3    102.267619\n",
       "Name: total_amount, dtype: float64"
      ]
     },
     "execution_count": 57,
     "metadata": {},
     "output_type": "execute_result"
    }
   ],
   "source": [
    "# 3.4 Determine which day of the week has the highest average transaction value\n",
    "sales.groupby('sales_day_of_week')['total_amount'].mean().sort_values(ascending=False).head(1)"
   ]
  }
 ],
 "metadata": {
  "kernelspec": {
   "display_name": "Python [conda env:base] *",
   "language": "python",
   "name": "conda-base-py"
  },
  "language_info": {
   "codemirror_mode": {
    "name": "ipython",
    "version": 3
   },
   "file_extension": ".py",
   "mimetype": "text/x-python",
   "name": "python",
   "nbconvert_exporter": "python",
   "pygments_lexer": "ipython3",
   "version": "3.12.7"
  }
 },
 "nbformat": 4,
 "nbformat_minor": 5
}
